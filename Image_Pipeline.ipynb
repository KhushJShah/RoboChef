{
 "cells": [
  {
   "cell_type": "code",
   "execution_count": 1,
   "metadata": {
    "colab": {
     "base_uri": "https://localhost:8080/"
    },
    "id": "sA1aQLrCA33B",
    "outputId": "2f8b6502-5c52-467c-ff5e-44d99f490a59"
   },
   "outputs": [
    {
     "name": "stdout",
     "output_type": "stream",
     "text": [
      "Cloning into 'RoboChef'...\n",
      "remote: Enumerating objects: 1434, done.\u001b[K\n",
      "remote: Counting objects: 100% (46/46), done.\u001b[K\n",
      "remote: Compressing objects: 100% (38/38), done.\u001b[K\n",
      "remote: Total 1434 (delta 11), reused 43 (delta 8), pack-reused 1388\u001b[K\n",
      "Receiving objects: 100% (1434/1434), 225.80 MiB | 11.87 MiB/s, done.\n",
      "Resolving deltas: 100% (16/16), done.\n",
      "Updating files: 100% (1399/1399), done.\n"
     ]
    }
   ],
   "source": [
    "!git clone https://github.com/KhushJShah/RoboChef.git"
   ]
  },
  {
   "cell_type": "code",
   "execution_count": 13,
   "metadata": {
    "id": "sgfsKK8n7a4Z"
   },
   "outputs": [],
   "source": [
    "import os\n",
    "import pandas as pd\n",
    "import shutil\n",
    "from sklearn.model_selection import train_test_split\n"
   ]
  },
  {
   "cell_type": "code",
   "execution_count": 14,
   "metadata": {
    "id": "BIo_fZtI7a0u"
   },
   "outputs": [],
   "source": [
    "csv_path = '/content/RoboChef/Annotated/Annotations_2_csv.csv'\n",
    "annotations_df = pd.read_csv(csv_path)\n",
    "\n",
    "# Define the paths to the images\n",
    "image_dirs = {\n",
    "    'Both': '/content/RoboChef/dataset/Both',\n",
    "    'Cinnamon': '/content/RoboChef/dataset/Cinnamom stick',\n",
    "    'Clove': '/content/RoboChef/dataset/Cloves'\n",
    "}\n",
    "\n",
    "# Create new directories\n",
    "base_dir = '/content/drive/MyDrive/Colab Notebooks/spice_detection_dataset_yolo1'\n",
    "img_dir = os.path.join(base_dir, 'images')\n",
    "label_dir = os.path.join(base_dir, 'labels')\n",
    "train_img_dir = os.path.join(img_dir, 'train')\n",
    "val_img_dir = os.path.join(img_dir, 'val')\n",
    "train_label_dir = os.path.join(label_dir, 'train')\n",
    "val_label_dir = os.path.join(label_dir, 'val')\n",
    "\n",
    "os.makedirs(train_img_dir, exist_ok=True)\n",
    "os.makedirs(val_img_dir, exist_ok=True)\n",
    "os.makedirs(train_label_dir, exist_ok=True)\n",
    "os.makedirs(val_label_dir, exist_ok=True)"
   ]
  },
  {
   "cell_type": "code",
   "execution_count": 15,
   "metadata": {
    "id": "26QhcZX399xv"
   },
   "outputs": [],
   "source": [
    "def parse_region_attributes(region_shape_attributes, region_attributes):\n",
    "    shape_attributes = json.loads(region_shape_attributes)\n",
    "    attributes = json.loads(region_attributes)\n",
    "    spice_type = attributes.get('Spice', 'None')\n",
    "\n",
    "    # Assign class IDs\n",
    "    class_id = {\n",
    "        'Cinnamon': 0,\n",
    "        'Clove': 1,\n",
    "        'None': 2\n",
    "    }.get(spice_type, 2)  # Default to 'None' if not found\n",
    "\n",
    "    if shape_attributes['name'] == 'rect':\n",
    "        x_min = shape_attributes['x']\n",
    "        y_min = shape_attributes['y']\n",
    "        width = shape_attributes['width']\n",
    "        height = shape_attributes['height']\n",
    "        x_max = x_min + width\n",
    "        y_max = y_min + height\n",
    "    elif shape_attributes['name'] == 'polygon':\n",
    "        all_points_x = shape_attributes['all_points_x']\n",
    "        all_points_y = shape_attributes['all_points_y']\n",
    "        x_min = min(all_points_x)\n",
    "        y_min = min(all_points_y)\n",
    "        x_max = max(all_points_x)\n",
    "        y_max = max(all_points_y)\n",
    "    else:\n",
    "        raise ValueError(\"Unsupported shape type: \" + shape_attributes['name'])\n",
    "\n",
    "    return class_id, x_min, y_min, x_max, y_max\n",
    "\n",
    "# Create a list to store image paths and labels\n",
    "data = []\n",
    "\n",
    "# Load images and corresponding annotations\n",
    "for _, row in annotations_df.iterrows():\n",
    "    image_name = row['filename']\n",
    "    for label, img_dir in image_dirs.items():\n",
    "        img_path = os.path.join(img_dir, image_name)\n",
    "        if os.path.exists(img_path):\n",
    "            class_id, x_min, y_min, x_max, y_max = parse_region_attributes(row['region_shape_attributes'], row['region_attributes'])\n",
    "            data.append((img_path, image_name, class_id, x_min, y_min, x_max, y_max))\n",
    "            break\n",
    "\n",
    "# Convert list to DataFrame for easier manipulation\n",
    "data_df = pd.DataFrame(data, columns=['img_path', 'filename', 'class_id', 'x_min', 'y_min', 'x_max', 'y_max'])\n",
    "\n",
    "# Split the data into training and validation sets\n",
    "train_df, val_df = train_test_split(data_df, test_size=0.2, random_state=42)\n",
    "\n",
    "# Define function to save images and labels in YOLO format\n",
    "def save_yolo_format(df, img_dir, label_dir):\n",
    "    for _, row in df.iterrows():\n",
    "        img_path = row['img_path']\n",
    "        image_name = row['filename']\n",
    "        class_id = row['class_id']\n",
    "        x_min = row['x_min']\n",
    "        y_min = row['y_min']\n",
    "        x_max = row['x_max']\n",
    "        y_max = row['y_max']\n",
    "\n",
    "        img = cv2.imread(img_path)\n",
    "        if img is None:\n",
    "            print(f\"Error: Unable to load image {img_path}\")\n",
    "            continue\n",
    "\n",
    "        height, width = img.shape[:2]\n",
    "\n",
    "        # Normalize coordinates\n",
    "        x_center = (x_min + x_max) / 2.0 / width\n",
    "        y_center = (y_min + y_max) / 2.0 / height\n",
    "        bbox_width = (x_max - x_min) / width\n",
    "        bbox_height = (y_max - y_min) / height\n",
    "\n",
    "        yolo_annotation = f\"{class_id} {x_center} {y_center} {bbox_width} {bbox_height}\"\n",
    "\n",
    "        # Save the annotation to a file\n",
    "        base_name = os.path.splitext(image_name)[0]\n",
    "        label_path = os.path.join(label_dir, f\"{base_name}.txt\")\n",
    "        img_save_path = os.path.join(img_dir, image_name)\n",
    "\n",
    "        with open(label_path, 'w') as f:\n",
    "            f.write(yolo_annotation)\n",
    "\n",
    "        cv2.imwrite(img_save_path, img)\n",
    "\n",
    "# Save training and validation datasets\n",
    "save_yolo_format(train_df, train_img_dir, train_label_dir)\n",
    "save_yolo_format(val_df, val_img_dir, val_label_dir)"
   ]
  },
  {
   "cell_type": "code",
   "execution_count": 16,
   "metadata": {
    "colab": {
     "base_uri": "https://localhost:8080/"
    },
    "id": "Z6KF-uBO-hh5",
    "outputId": "110dde38-7dd7-404c-ff40-e18c381a00e0"
   },
   "outputs": [
    {
     "name": "stdout",
     "output_type": "stream",
     "text": [
      "Train labels: ['Cloves77.txt', 'Cloves58.txt', 'CinnamomStick64.txt', 'Cloves22.txt', 'CinnamomStick52.txt', 'CinnamomStick25.txt', 'CinnamomStick54.txt', 'Cloves25.txt', 'Cloves356.txt', 'CinnamomStick120.txt', 'Cloves12.txt', 'CinnamomStick83.txt', 'Cloves34.txt', 'Cloves75.txt', 'CinnamomStick37.txt', 'CinnamomStick72.txt', 'CinnamomStick38.txt', 'CinnamomStick79.txt', 'Cloves56.txt', 'Cloves20.txt', 'Cloves66.txt', 'CinnamomStick47.txt', 'CC11.txt', 'Cloves3.txt', 'Cloves76.txt', 'Cloves33.txt', 'CC3.txt', 'CinnamomStick26.txt', 'CinnamomStick93.txt', 'CinnamomStick116.txt', 'CinnamomStick82.txt', 'CinnamomStick35.txt', 'CinnamomStick100.txt', 'Cloves57.txt', 'Cloves17.txt', 'CinnamomStick1.txt', 'CC6.txt', 'CinnamomStick5.txt', 'CC10.txt', 'CinnamomStick12.txt', 'Cloves353.txt', 'CinnamomStick94.txt', 'CinnamomStick61.txt', 'Cloves19.txt', 'CinnamomStick21.txt', 'CinnamomStick63.txt', 'CinnamomStick108.txt', 'Cloves45.txt', 'CinnamomStick44.txt', 'CinnamomStick11.txt', 'CinnamomStick76.txt', 'Cloves73.txt', 'CinnamomStick46.txt', 'CinnamomStick112.txt', 'CC9.txt', 'Cloves4.txt', 'Cloves63.txt', 'Cloves36.txt', 'Cloves44.txt', 'CC1.txt', 'CC2.txt', 'CinnamomStick45.txt', 'CinnamomStick16.txt', 'CinnamomStick68.txt', 'CinnamomStick105.txt', 'CinnamomStick115.txt', 'Cloves28.txt', 'CinnamomStick58.txt', 'CinnamomStick53.txt', 'Cloves24.txt', 'Cloves16.txt', 'CinnamomStick66.txt', 'CinnamomStick6.txt', 'CinnamomStick111.txt', 'CinnamomStick31.txt', 'CinnamomStick86.txt', 'Cloves13.txt', 'CinnamomStick104.txt', 'CC5.txt', 'Cloves352.txt', 'CinnamomStick118.txt', 'CinnamomStick90.txt', 'CinnamomStick2.txt', 'CinnamomStick109.txt', 'Cloves26.txt', 'CinnamomStick106.txt', 'CinnamomStick32.txt', 'CinnamomStick103.txt', 'CinnamomStick96.txt', 'Cloves70.txt', 'Cloves37.txt', 'CinnamomStick34.txt', 'CinnamomStick14.txt', 'Cloves69.txt', 'CinnamomStick10.txt', 'CinnamomStick91.txt', 'Cloves35.txt', 'Cloves31.txt', 'CinnamomStick49.txt', 'CinnamomStick9.txt', 'Cloves55.txt', 'CinnamomStick17.txt', 'CinnamomStick62.txt', 'Cloves38.txt', 'CinnamomStick13.txt', 'CinnamomStick113.txt', 'Cloves41.txt', 'CinnamomStick73.txt', 'CinnamomStick23.txt', 'CinnamomStick101.txt', 'Cloves71.txt', 'Cloves351.txt', 'CinnamomStick19.txt', 'Cloves18.txt', 'CinnamomStick48.txt', 'CinnamomStick4.txt', 'Cloves52.txt', 'CC4.txt', 'CinnamomStick78.txt', 'CinnamomStick59.txt', 'CinnamomStick51.txt', 'Cloves67.txt', 'Cloves72.txt', 'CinnamomStick57.txt', 'CinnamomStick29.txt', 'Cloves59.txt', 'CinnamomStick99.txt', 'CC8.txt', 'Cloves21.txt', 'CinnamomStick40.txt', 'Cloves1.txt', 'CinnamomStick102.txt', 'Cloves50.txt', 'Cloves74.txt', 'CinnamomStick33.txt', 'CinnamomStick24.txt', 'CinnamomStick75.txt', 'CinnamomStick20.txt', 'Cloves27.txt', 'Cloves62.txt', 'Cloves40.txt', 'Cloves354.txt', 'Cloves65.txt', 'CinnamomStick28.txt', 'CinnamomStick18.txt', 'CinnamomStick56.txt', 'CinnamomStick27.txt', 'Cloves54.txt', 'Cloves15.txt', 'Cloves350.txt', 'Cloves42.txt', 'CinnamomStick97.txt', 'CinnamomStick7.txt', 'CinnamomStick22.txt', 'CinnamomStick117.txt', 'CinnamomStick98.txt', 'CinnamomStick119.txt', 'CinnamomStick71.txt', 'CinnamomStick67.txt', 'CinnamomStick84.txt', 'CinnamomStick55.txt', 'Cloves53.txt', 'CinnamomStick42.txt', 'Cloves64.txt', 'Cloves60.txt', 'CinnamomStick89.txt', 'Cloves610.txt', 'CinnamomStick39.txt', 'CinnamomStick74.txt', 'CinnamomStick60.txt', 'Cloves32.txt', 'CinnamomStick70.txt']\n",
      "Validation labels: ['CC9.txt', 'CC4.txt', 'CinnamomStick121.txt', 'Cloves61.txt', 'Cloves49.txt', 'Cloves29.txt', 'Cloves43.txt', 'CinnamomStick92.txt', 'CinnamomStick69.txt', 'CinnamomStick15.txt', 'Cloves2.txt', 'CinnamomStick85.txt', 'Cloves30.txt', 'CinnamomStick50.txt', 'CinnamomStick114.txt', 'Cloves51.txt', 'CC7.txt', 'CinnamomStick36.txt', 'CinnamomStick110.txt', 'CinnamomStick3.txt', 'CC8.txt', 'CinnamomStick77.txt', 'CC11.txt', 'Cloves39.txt', 'CinnamomStick88.txt', 'CC5.txt', 'CinnamomStick41.txt', 'Cloves14.txt', 'Cloves12.txt', 'CinnamomStick80.txt', 'Cloves68.txt', 'CinnamomStick30.txt', 'CinnamomStick87.txt', 'CinnamomStick65.txt', 'Cloves48.txt', 'CinnamomStick107.txt', 'Cloves355.txt', 'CinnamomStick43.txt', 'CinnamomStick95.txt', 'CinnamomStick81.txt', 'Cloves47.txt', 'Cloves23.txt', 'CinnamomStick8.txt', 'Cloves46.txt']\n"
     ]
    }
   ],
   "source": [
    "# List the contents of the labels directory\n",
    "print(\"Train labels:\", os.listdir(train_label_dir))\n",
    "print(\"Validation labels:\", os.listdir(val_label_dir))"
   ]
  },
  {
   "cell_type": "code",
   "execution_count": 17,
   "metadata": {
    "colab": {
     "base_uri": "https://localhost:8080/"
    },
    "id": "_e_UiNA--rlX",
    "outputId": "e799f638-5dc6-4a8b-b202-9e53e2a172c9"
   },
   "outputs": [
    {
     "name": "stdout",
     "output_type": "stream",
     "text": [
      "Total training images: 172\n",
      "Total validation images: 44\n"
     ]
    }
   ],
   "source": [
    "print(f\"Total training images: {len(os.listdir(train_img_dir))}\")\n",
    "print(f\"Total validation images: {len(os.listdir(val_img_dir))}\")"
   ]
  },
  {
   "cell_type": "code",
   "execution_count": 18,
   "metadata": {
    "colab": {
     "base_uri": "https://localhost:8080/"
    },
    "id": "VbE7A6ik_XFq",
    "outputId": "1b63a3e3-2493-4f5f-ca7b-fbb4feaf6e48"
   },
   "outputs": [
    {
     "name": "stdout",
     "output_type": "stream",
     "text": [
      "data.yaml created at: /content/drive/MyDrive/Colab Notebooks/spice_detection_dataset_yolo1/data.yaml\n"
     ]
    }
   ],
   "source": [
    "yaml_content = \"\"\"\n",
    "train: /content/drive/MyDrive/Colab Notebooks/spice_detection_dataset_yolo1/images/train\n",
    "val: /content/drive/MyDrive/Colab Notebooks/spice_detection_dataset_yolo1/images/val\n",
    "\n",
    "nc: 3\n",
    "names: ['Cinnamon', 'Clove', 'None']\n",
    "\"\"\"\n",
    "\n",
    "yaml_path = os.path.join(base_dir, 'data.yaml')\n",
    "with open(yaml_path, 'w') as f:\n",
    "    f.write(yaml_content)\n",
    "\n",
    "print(f\"data.yaml created at: {yaml_path}\")\n"
   ]
  },
  {
   "cell_type": "code",
   "execution_count": null,
   "metadata": {
    "id": "Q2o-p1GX_eDQ"
   },
   "outputs": [],
   "source": []
  }
 ],
 "metadata": {
  "colab": {
   "provenance": []
  },
  "kernelspec": {
   "display_name": "Python 3 (ipykernel)",
   "language": "python",
   "name": "python3"
  },
  "language_info": {
   "codemirror_mode": {
    "name": "ipython",
    "version": 3
   },
   "file_extension": ".py",
   "mimetype": "text/x-python",
   "name": "python",
   "nbconvert_exporter": "python",
   "pygments_lexer": "ipython3",
   "version": "3.11.7"
  }
 },
 "nbformat": 4,
 "nbformat_minor": 4
}
