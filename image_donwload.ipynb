{
 "cells": [
  {
   "cell_type": "code",
   "execution_count": null,
   "metadata": {},
   "outputs": [],
   "source": []
  }
 ],
 "metadata": {
  "kernelspec": {
   "display_name": "Python 3.10.14 ('RoboChef')",
   "language": "python",
   "name": "python3"
  },
  "language_info": {
   "name": "python",
   "version": "3.10.14"
  },
  "vscode": {
   "interpreter": {
    "hash": "78c14cd3be839c7d00c421c1fd1eccac1f66457fbdcd46941495e71fe6b83867"
   }
  }
 },
 "nbformat": 4,
 "nbformat_minor": 5
}
